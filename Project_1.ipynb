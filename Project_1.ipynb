{
  "nbformat": 4,
  "nbformat_minor": 0,
  "metadata": {
    "colab": {
      "provenance": [],
      "authorship_tag": "ABX9TyMZ9vveSGZdKlkHKL5t+FW6",
      "include_colab_link": true
    },
    "kernelspec": {
      "name": "python3",
      "display_name": "Python 3"
    },
    "language_info": {
      "name": "python"
    }
  },
  "cells": [
    {
      "cell_type": "markdown",
      "metadata": {
        "id": "view-in-github",
        "colab_type": "text"
      },
      "source": [
        "<a href=\"https://colab.research.google.com/github/LeahDeshar/Testproject/blob/main/Project_1.ipynb\" target=\"_parent\"><img src=\"https://colab.research.google.com/assets/colab-badge.svg\" alt=\"Open In Colab\"/></a>"
      ]
    },
    {
      "cell_type": "markdown",
      "source": [
        "# Project-1: To-Do (command-line) app\n",
        "\n",
        "[Note]: Before attemping this project ensure that you have a basic understanding of Python syntax, variables,  data types and all the topics covered in the python training class\n",
        "\n",
        "\n",
        "Functions:\n",
        "\n",
        "\n",
        "1.  Add Task\n",
        "2.  View Task\n",
        "3.  Mark as Completed\n",
        "4.  Remove Task\n",
        "\n",
        "\n"
      ],
      "metadata": {
        "id": "qCgNn9VafGd6"
      }
    },
    {
      "cell_type": "markdown",
      "source": [
        "**Steps:**\n",
        "1. Initialize the To-Do List\n",
        "2. Display Menu Options\n",
        "Show the user a menu of options they can perform on the to-do list (add task, mark as completed, view tasks, remove task, exit).\n",
        "3. Get User Input\n",
        " user input to choose an action from the menu.\n",
        "\n",
        "4. Implement Actions Based on User Input\n",
        "*   Add Task\n",
        "*   Mark as Completed\n",
        "*   View Tasks\n",
        "*   Remove Task\n",
        "*   Exit\n",
        "\n",
        "\n"
      ],
      "metadata": {
        "id": "XigZNy-wg-iy"
      }
    },
    {
      "cell_type": "code",
      "execution_count": null,
      "metadata": {
        "id": "cQO-CT_ScaTk"
      },
      "outputs": [],
      "source": [
        "# Initialize the to-do list\n",
        "# all the list are stored in this list\n",
        "todo_list = []\n"
      ]
    },
    {
      "cell_type": "code",
      "source": [
        "# we want this loop to run until the user want\n",
        "# then we also have to create logic to stop the loop\n",
        "\n",
        "\n",
        "while True:\n",
        "    # Display menu options\n",
        "    print(\"\\nTo-Do List Manager\")\n",
        "    print(\"1. Add Task\")\n",
        "    print(\"2. Mark as Completed\")\n",
        "    print(\"3. View Tasks\")\n",
        "    print(\"4. Remove Task\")\n",
        "    print(\"5. Exit\")\n",
        "\n",
        "\n",
        "\n",
        "    # Get user choice\n",
        "    choice = input(\"Enter your choice (1-5): \")\n",
        "\n",
        "\n",
        "\n",
        "    # user will press any number from 1-5:\n",
        "    # based on the user's choice following block will be executed\n",
        "\n",
        "    if choice == \"1\":\n",
        "        # Add Task\n",
        "        task = input(\"Enter a new task: \")\n",
        "        todo_list.append({\"task\": task, \"completed\": False})\n",
        "\n",
        "\n",
        "    elif choice == \"2\":\n",
        "        # Mark as Completed\n",
        "        task_index = int(input(\"Enter the task number to mark as completed: \"))\n",
        "\n",
        "        #user enters the number/index of the task to mark the task as completed\n",
        "\n",
        "        if task_index >=0 and task_index < len(todo_list):\n",
        "          # the index user enters should be greater than 0 and less than the length of the list\n",
        "\n",
        "          # in python we can write this line of code like this\n",
        "          # if 0 <= task_index and task_index < len(todo_list)\n",
        "          # whatever you refer , you can do it\n",
        "\n",
        "            todo_list[task_index][\"completed\"] = True\n",
        "        else:\n",
        "            print(\"Invalid task number.\")\n",
        "\n",
        "\n",
        "    elif choice == \"3\":\n",
        "        # View Tasks\n",
        "        # in one of the class we learned enumerate() it de-struct/returns index and task\n",
        "        # example below....\n",
        "\n",
        "        for index, task in enumerate(todo_list):\n",
        "            print(f\"{index}: {task['task']} - {'Completed' if task['completed'] else 'Not Completed'}\")\n",
        "            # This line  displays the index, task description, and completion status\n",
        "\n",
        "\n",
        "\n",
        "    elif choice == \"4\":\n",
        "        # Remove Task\n",
        "        task_index = int(input(\"Enter the task number to remove: \"))\n",
        "        if task_index >=0 and task_index < len(todo_list):\n",
        "            removed_task = todo_list.pop(task_index)\n",
        "            print(f\"Removed task: {removed_task['task']}\")\n",
        "        else:\n",
        "            print(\"Invalid task number.\")\n",
        "\n",
        "\n",
        "    elif choice == \"5\":\n",
        "        # Exit\n",
        "        print(\"Exiting the To-Do List Manager. Goodbye!\")\n",
        "        break\n",
        "    else:\n",
        "        print(\"Invalid choice. Please enter a number between 1 and 5.\")\n"
      ],
      "metadata": {
        "colab": {
          "base_uri": "https://localhost:8080/"
        },
        "id": "bW0sYGuAiBaZ",
        "outputId": "e9d40102-6f71-4742-a714-c25ac9b6fd2e"
      },
      "execution_count": null,
      "outputs": [
        {
          "output_type": "stream",
          "name": "stdout",
          "text": [
            "\n",
            "To-Do List Manager\n",
            "1. Add Task\n",
            "2. Mark as Completed\n",
            "3. View Tasks\n",
            "4. Remove Task\n",
            "5. Exit\n",
            "Enter your choice (1-5): 1\n",
            "Enter a new task: learn py\n",
            "\n",
            "To-Do List Manager\n",
            "1. Add Task\n",
            "2. Mark as Completed\n",
            "3. View Tasks\n",
            "4. Remove Task\n",
            "5. Exit\n",
            "Enter your choice (1-5): 1\n",
            "Enter a new task: learn django\n",
            "\n",
            "To-Do List Manager\n",
            "1. Add Task\n",
            "2. Mark as Completed\n",
            "3. View Tasks\n",
            "4. Remove Task\n",
            "5. Exit\n",
            "Enter your choice (1-5): 3\n",
            "0: learn py - Not Completed\n",
            "1: learn py - Not Completed\n",
            "2: learn django - Not Completed\n",
            "\n",
            "To-Do List Manager\n",
            "1. Add Task\n",
            "2. Mark as Completed\n",
            "3. View Tasks\n",
            "4. Remove Task\n",
            "5. Exit\n",
            "Enter your choice (1-5): 2\n",
            "Enter the task number to mark as completed: 0\n",
            "\n",
            "To-Do List Manager\n",
            "1. Add Task\n",
            "2. Mark as Completed\n",
            "3. View Tasks\n",
            "4. Remove Task\n",
            "5. Exit\n",
            "Enter your choice (1-5): 3\n",
            "0: learn py - Completed\n",
            "1: learn py - Not Completed\n",
            "2: learn django - Not Completed\n",
            "\n",
            "To-Do List Manager\n",
            "1. Add Task\n",
            "2. Mark as Completed\n",
            "3. View Tasks\n",
            "4. Remove Task\n",
            "5. Exit\n",
            "Enter your choice (1-5): 4\n",
            "Enter the task number to remove: 1\n",
            "Removed task: learn py\n",
            "\n",
            "To-Do List Manager\n",
            "1. Add Task\n",
            "2. Mark as Completed\n",
            "3. View Tasks\n",
            "4. Remove Task\n",
            "5. Exit\n",
            "Enter your choice (1-5): 3\n",
            "0: learn py - Completed\n",
            "1: learn django - Not Completed\n",
            "\n",
            "To-Do List Manager\n",
            "1. Add Task\n",
            "2. Mark as Completed\n",
            "3. View Tasks\n",
            "4. Remove Task\n",
            "5. Exit\n",
            "Enter your choice (1-5): 5\n",
            "Exiting the To-Do List Manager. Goodbye!\n"
          ]
        }
      ]
    },
    {
      "cell_type": "code",
      "source": [
        "\n",
        "demo_list = [\"Complete assignment\", \"Buy groceries\", \"Exercise\", \"Read a book\"]\n",
        "\n",
        "#  enumerate method returns the index and task\n",
        "#  you can learn unpacking concept\n",
        "\n",
        "\n",
        "for index, task in enumerate(demo_list):\n",
        "    print(f\"Task {index + 1}: {task}\")\n"
      ],
      "metadata": {
        "id": "hKLI_lHaiWjn"
      },
      "execution_count": null,
      "outputs": []
    },
    {
      "cell_type": "code",
      "source": [],
      "metadata": {
        "id": "M4CanDedlJlZ"
      },
      "execution_count": null,
      "outputs": []
    }
  ]
}